{
 "cells": [
  {
   "cell_type": "markdown",
   "id": "b19167bf-130a-4c9a-ba30-f47fe83b418e",
   "metadata": {},
   "source": [
    "SpellCheker"
   ]
  },
  {
   "cell_type": "code",
   "execution_count": null,
   "id": "c3376708-ebce-4b1b-8baa-eeea62bfb857",
   "metadata": {},
   "outputs": [],
   "source": [
    "from spellchecker import SpellChecker"
   ]
  },
  {
   "cell_type": "code",
   "execution_count": 42,
   "id": "c940b610-b071-4463-a843-9e74c17c03de",
   "metadata": {},
   "outputs": [],
   "source": [
    "# Crear una instancia de SpellChecker\n",
    "spell = SpellChecker()"
   ]
  },
  {
   "cell_type": "code",
   "execution_count": 43,
   "id": "0d20d651-5cad-402e-a434-6cbaaa3b78ae",
   "metadata": {},
   "outputs": [],
   "source": [
    "# Texto con errores tipográficos\n",
    "texto_con_errores = \"Herase una vez un ombre que tenía hermosas casas en la ciudad y en el campo, bajilla de oro y plata, mueblesforrados en finisimo brocado y carrozas todas doradas. Pero desgraciadamente, este hombre tenía la barva azul; estole dava un aspecto tan feo y terrible que todas las mujeres y las jóvenes le huían.Una becina suya, dama distinguida, tenía dos ijas hermosísimas. Él le pidió la mano de una de ellas, dejando ha suelección cuál querría darle. Ninguna de las dos quería y se lo pasavan una a la otra, pues no podían resignarse a tenerun marido con la barba azul. Pero lo que mas les disgustaba era que ya se abia casado varias veces y nadie sabia quéhabía pasado con esas mujeres.\""
   ]
  },
  {
   "cell_type": "code",
   "execution_count": 44,
   "id": "e80fd757-a9b8-4305-847a-87cc40d8307d",
   "metadata": {},
   "outputs": [],
   "source": [
    "# Tokeniza el texto en palabras\n",
    "palabras = texto_con_errores.split()"
   ]
  },
  {
   "cell_type": "code",
   "execution_count": 45,
   "id": "d4aac1dd-5d78-46b8-83b7-f1461347bc3d",
   "metadata": {},
   "outputs": [
    {
     "name": "stdout",
     "output_type": "stream",
     "text": [
      "Tokens, aqui visualizo los datos con errores usando la funcion split:\n",
      "['Herase', 'una', 'vez', 'un', 'ombre', 'que', 'tenía', 'hermosas', 'casas', 'en', 'la', 'ciudad', 'y', 'en', 'el', 'campo,', 'bajilla', 'de', 'oro', 'y', 'plata,', 'mueblesforrados', 'en', 'finisimo', 'brocado', 'y', 'carrozas', 'todas', 'doradas.', 'Pero', 'desgraciadamente,', 'este', 'hombre', 'tenía', 'la', 'barva', 'azul;', 'estole', 'dava', 'un', 'aspecto', 'tan', 'feo', 'y', 'terrible', 'que', 'todas', 'las', 'mujeres', 'y', 'las', 'jóvenes', 'le', 'huían.Una', 'becina', 'suya,', 'dama', 'distinguida,', 'tenía', 'dos', 'ijas', 'hermosísimas.', 'Él', 'le', 'pidió', 'la', 'mano', 'de', 'una', 'de', 'ellas,', 'dejando', 'ha', 'suelección', 'cuál', 'querría', 'darle.', 'Ninguna', 'de', 'las', 'dos', 'quería', 'y', 'se', 'lo', 'pasavan', 'una', 'a', 'la', 'otra,', 'pues', 'no', 'podían', 'resignarse', 'a', 'tenerun', 'marido', 'con', 'la', 'barba', 'azul.', 'Pero', 'lo', 'que', 'mas', 'les', 'disgustaba', 'era', 'que', 'ya', 'se', 'abia', 'casado', 'varias', 'veces', 'y', 'nadie', 'sabia', 'quéhabía', 'pasado', 'con', 'esas', 'mujeres.']\n"
     ]
    }
   ],
   "source": [
    "# Imprime los tokens\n",
    "print(\"Tokens, aqui visualizo los datos con errores usando la funcion split:\")\n",
    "print(palabras)"
   ]
  },
  {
   "cell_type": "code",
   "execution_count": 46,
   "id": "0c5f25c3-abe2-4a8d-8902-e58cc77db8bd",
   "metadata": {},
   "outputs": [],
   "source": [
    "# Lista para almacenar las correcciones\n",
    "correcciones = []"
   ]
  },
  {
   "cell_type": "code",
   "execution_count": 47,
   "id": "efaa34f3-d167-472d-b6df-1dbb927d95af",
   "metadata": {},
   "outputs": [],
   "source": [
    "# Encuentra y corrige errores tipográficos\n",
    "for palabra in palabras:\n",
    "    correccion = spell.correction(palabra)\n",
    "    # Verifica si la corrección es None y, si es así, conserva la palabra original\n",
    "    if correccion is not None:\n",
    "        correcciones.append(correccion)\n",
    "    else:\n",
    "        correcciones.append(palabra)"
   ]
  },
  {
   "cell_type": "code",
   "execution_count": 48,
   "id": "c295a1f3-c89f-4961-b02c-9cce487f38b3",
   "metadata": {},
   "outputs": [
    {
     "name": "stdout",
     "output_type": "stream",
     "text": [
      "Correcciones:\n",
      "Palabra original: Herase, Corrección: erase\n",
      "Palabra original: una, Corrección: una\n",
      "Palabra original: vez, Corrección: vez\n",
      "Palabra original: un, Corrección: un\n",
      "Palabra original: ombre, Corrección: hombre\n",
      "Palabra original: que, Corrección: que\n",
      "Palabra original: tenía, Corrección: tenga\n",
      "Palabra original: hermosas, Corrección: thermoses\n",
      "Palabra original: casas, Corrección: cases\n",
      "Palabra original: en, Corrección: en\n",
      "Palabra original: la, Corrección: la\n",
      "Palabra original: ciudad, Corrección: ciudad\n",
      "Palabra original: y, Corrección: y\n",
      "Palabra original: en, Corrección: en\n",
      "Palabra original: el, Corrección: el\n",
      "Palabra original: campo,, Corrección: campo\n",
      "Palabra original: bajilla, Corrección: vanilla\n",
      "Palabra original: de, Corrección: de\n",
      "Palabra original: oro, Corrección: oro\n",
      "Palabra original: y, Corrección: y\n",
      "Palabra original: plata,, Corrección: plate\n",
      "Palabra original: mueblesforrados, Corrección: mueblesforrados\n",
      "Palabra original: en, Corrección: en\n",
      "Palabra original: finisimo, Corrección: finisimo\n",
      "Palabra original: brocado, Corrección: brocade\n",
      "Palabra original: y, Corrección: y\n",
      "Palabra original: carrozas, Corrección: carrots\n",
      "Palabra original: todas, Corrección: todas\n",
      "Palabra original: doradas., Corrección: doradas.\n",
      "Palabra original: Pero, Corrección: Pero\n",
      "Palabra original: desgraciadamente,, Corrección: desgraciadamente,\n",
      "Palabra original: este, Corrección: este\n",
      "Palabra original: hombre, Corrección: hombre\n",
      "Palabra original: tenía, Corrección: tenga\n",
      "Palabra original: la, Corrección: la\n",
      "Palabra original: barva, Corrección: larva\n",
      "Palabra original: azul;, Corrección: azul\n",
      "Palabra original: estole, Corrección: stole\n",
      "Palabra original: dava, Corrección: data\n",
      "Palabra original: un, Corrección: un\n",
      "Palabra original: aspecto, Corrección: aspect\n",
      "Palabra original: tan, Corrección: tan\n",
      "Palabra original: feo, Corrección: few\n",
      "Palabra original: y, Corrección: y\n",
      "Palabra original: terrible, Corrección: terrible\n",
      "Palabra original: que, Corrección: que\n",
      "Palabra original: todas, Corrección: todas\n",
      "Palabra original: las, Corrección: las\n",
      "Palabra original: mujeres, Corrección: mujeres\n",
      "Palabra original: y, Corrección: y\n",
      "Palabra original: las, Corrección: las\n",
      "Palabra original: jóvenes, Corrección: jóvenes\n",
      "Palabra original: le, Corrección: le\n",
      "Palabra original: huían.Una, Corrección: huían.Una\n",
      "Palabra original: becina, Corrección: being\n",
      "Palabra original: suya,, Corrección: sugar\n",
      "Palabra original: dama, Corrección: dama\n",
      "Palabra original: distinguida,, Corrección: distinguida,\n",
      "Palabra original: tenía, Corrección: tenga\n",
      "Palabra original: dos, Corrección: dos\n",
      "Palabra original: ijas, Corrección: itas\n",
      "Palabra original: hermosísimas., Corrección: hermosísimas.\n",
      "Palabra original: Él, Corrección: al\n",
      "Palabra original: le, Corrección: le\n",
      "Palabra original: pidió, Corrección: pixie\n",
      "Palabra original: la, Corrección: la\n",
      "Palabra original: mano, Corrección: mano\n",
      "Palabra original: de, Corrección: de\n",
      "Palabra original: una, Corrección: una\n",
      "Palabra original: de, Corrección: de\n",
      "Palabra original: ellas,, Corrección: fellas\n",
      "Palabra original: dejando, Corrección: demand\n",
      "Palabra original: ha, Corrección: ha\n",
      "Palabra original: suelección, Corrección: suelección\n",
      "Palabra original: cuál, Corrección: curl\n",
      "Palabra original: querría, Corrección: queria\n",
      "Palabra original: darle., Corrección: dare\n",
      "Palabra original: Ninguna, Corrección: ningen\n",
      "Palabra original: de, Corrección: de\n",
      "Palabra original: las, Corrección: las\n",
      "Palabra original: dos, Corrección: dos\n",
      "Palabra original: quería, Corrección: queria\n",
      "Palabra original: y, Corrección: y\n",
      "Palabra original: se, Corrección: se\n",
      "Palabra original: lo, Corrección: lo\n",
      "Palabra original: pasavan, Corrección: caravan\n",
      "Palabra original: una, Corrección: una\n",
      "Palabra original: a, Corrección: a\n",
      "Palabra original: la, Corrección: la\n",
      "Palabra original: otra,, Corrección: otra\n",
      "Palabra original: pues, Corrección: pues\n",
      "Palabra original: no, Corrección: no\n",
      "Palabra original: podían, Corrección: podían\n",
      "Palabra original: resignarse, Corrección: resignarse\n",
      "Palabra original: a, Corrección: a\n",
      "Palabra original: tenerun, Corrección: tener\n",
      "Palabra original: marido, Corrección: mario\n",
      "Palabra original: con, Corrección: con\n",
      "Palabra original: la, Corrección: la\n",
      "Palabra original: barba, Corrección: baba\n",
      "Palabra original: azul., Corrección: azul\n",
      "Palabra original: Pero, Corrección: Pero\n",
      "Palabra original: lo, Corrección: lo\n",
      "Palabra original: que, Corrección: que\n",
      "Palabra original: mas, Corrección: mas\n",
      "Palabra original: les, Corrección: les\n",
      "Palabra original: disgustaba, Corrección: disgustaba\n",
      "Palabra original: era, Corrección: era\n",
      "Palabra original: que, Corrección: que\n",
      "Palabra original: ya, Corrección: ya\n",
      "Palabra original: se, Corrección: se\n",
      "Palabra original: abia, Corrección: asia\n",
      "Palabra original: casado, Corrección: casino\n",
      "Palabra original: varias, Corrección: varies\n",
      "Palabra original: veces, Corrección: veces\n",
      "Palabra original: y, Corrección: y\n",
      "Palabra original: nadie, Corrección: nadie\n",
      "Palabra original: sabia, Corrección: labia\n",
      "Palabra original: quéhabía, Corrección: quéhabía\n",
      "Palabra original: pasado, Corrección: parade\n",
      "Palabra original: con, Corrección: con\n",
      "Palabra original: esas, Corrección: seas\n",
      "Palabra original: mujeres., Corrección: mujeres\n"
     ]
    }
   ],
   "source": [
    "# Imprime la lista de correcciones\n",
    "print(\"Correcciones:\")\n",
    "for i, correccion in enumerate(correcciones):\n",
    "    original = palabras[i]\n",
    "    print(f\"Palabra original: {original}, Corrección: {correccion}\")"
   ]
  },
  {
   "cell_type": "code",
   "execution_count": 49,
   "id": "49b11c18-512b-4e2c-a0b4-c6b42edfa549",
   "metadata": {},
   "outputs": [],
   "source": [
    "# Reconstruye el texto corregido\n",
    "texto_corregido = ' '.join(correcciones)"
   ]
  },
  {
   "cell_type": "code",
   "execution_count": 50,
   "id": "9ac5c6d4-2d1f-4348-8702-ca10a13e3013",
   "metadata": {},
   "outputs": [
    {
     "name": "stdout",
     "output_type": "stream",
     "text": [
      "Texto original: Herase una vez un ombre que tenía hermosas casas en la ciudad y en el campo, bajilla de oro y plata, mueblesforrados en finisimo brocado y carrozas todas doradas. Pero desgraciadamente, este hombre tenía la barva azul; estole dava un aspecto tan feo y terrible que todas las mujeres y las jóvenes le huían.Una becina suya, dama distinguida, tenía dos ijas hermosísimas. Él le pidió la mano de una de ellas, dejando ha suelección cuál querría darle. Ninguna de las dos quería y se lo pasavan una a la otra, pues no podían resignarse a tenerun marido con la barba azul. Pero lo que mas les disgustaba era que ya se abia casado varias veces y nadie sabia quéhabía pasado con esas mujeres.\n",
      "Texto corregido: erase una vez un hombre que tenga thermoses cases en la ciudad y en el campo vanilla de oro y plate mueblesforrados en finisimo brocade y carrots todas doradas. Pero desgraciadamente, este hombre tenga la larva azul stole data un aspect tan few y terrible que todas las mujeres y las jóvenes le huían.Una being sugar dama distinguida, tenga dos itas hermosísimas. al le pixie la mano de una de fellas demand ha suelección curl queria dare ningen de las dos queria y se lo caravan una a la otra pues no podían resignarse a tener mario con la baba azul Pero lo que mas les disgustaba era que ya se asia casino varies veces y nadie labia quéhabía parade con seas mujeres\n"
     ]
    }
   ],
   "source": [
    "# Imprime el texto corregido\n",
    "print(\"Texto original:\", texto_con_errores)\n",
    "print(\"Texto corregido:\", texto_corregido)"
   ]
  },
  {
   "cell_type": "code",
   "execution_count": null,
   "id": "448e9251-29d4-4e89-a1d3-44a9cbeaa7ca",
   "metadata": {},
   "outputs": [],
   "source": []
  }
 ],
 "metadata": {
  "kernelspec": {
   "display_name": "Python 3 (ipykernel)",
   "language": "python",
   "name": "python3"
  },
  "language_info": {
   "codemirror_mode": {
    "name": "ipython",
    "version": 3
   },
   "file_extension": ".py",
   "mimetype": "text/x-python",
   "name": "python",
   "nbconvert_exporter": "python",
   "pygments_lexer": "ipython3",
   "version": "3.11.3"
  }
 },
 "nbformat": 4,
 "nbformat_minor": 5
}
